{
 "cells": [
  {
   "cell_type": "code",
   "execution_count": 1,
   "metadata": {},
   "outputs": [],
   "source": [
    "import warnings\n",
    "warnings.filterwarnings(\"ignore\")"
   ]
  },
  {
   "cell_type": "code",
   "execution_count": 2,
   "metadata": {
    "scrolled": true
   },
   "outputs": [
    {
     "data": {
      "text/html": [
       "<div>\n",
       "<style scoped>\n",
       "    .dataframe tbody tr th:only-of-type {\n",
       "        vertical-align: middle;\n",
       "    }\n",
       "\n",
       "    .dataframe tbody tr th {\n",
       "        vertical-align: top;\n",
       "    }\n",
       "\n",
       "    .dataframe thead th {\n",
       "        text-align: right;\n",
       "    }\n",
       "</style>\n",
       "<table border=\"1\" class=\"dataframe\">\n",
       "  <thead>\n",
       "    <tr style=\"text-align: right;\">\n",
       "      <th></th>\n",
       "      <th>Channel</th>\n",
       "      <th>Region</th>\n",
       "      <th>Fresh</th>\n",
       "      <th>Milk</th>\n",
       "      <th>Grocery</th>\n",
       "      <th>Frozen</th>\n",
       "      <th>Detergents_Paper</th>\n",
       "      <th>Delicassen</th>\n",
       "    </tr>\n",
       "  </thead>\n",
       "  <tbody>\n",
       "    <tr>\n",
       "      <th>0</th>\n",
       "      <td>2</td>\n",
       "      <td>3</td>\n",
       "      <td>12669.0</td>\n",
       "      <td>9656.0</td>\n",
       "      <td>7561.0</td>\n",
       "      <td>214.0</td>\n",
       "      <td>2674.0</td>\n",
       "      <td>1338.0</td>\n",
       "    </tr>\n",
       "    <tr>\n",
       "      <th>1</th>\n",
       "      <td>2</td>\n",
       "      <td>3</td>\n",
       "      <td>7057.0</td>\n",
       "      <td>9810.0</td>\n",
       "      <td>9568.0</td>\n",
       "      <td>1762.0</td>\n",
       "      <td>3293.0</td>\n",
       "      <td>1776.0</td>\n",
       "    </tr>\n",
       "    <tr>\n",
       "      <th>2</th>\n",
       "      <td>2</td>\n",
       "      <td>3</td>\n",
       "      <td>6353.0</td>\n",
       "      <td>8808.0</td>\n",
       "      <td>7684.0</td>\n",
       "      <td>2405.0</td>\n",
       "      <td>3516.0</td>\n",
       "      <td>7844.0</td>\n",
       "    </tr>\n",
       "    <tr>\n",
       "      <th>3</th>\n",
       "      <td>1</td>\n",
       "      <td>3</td>\n",
       "      <td>13265.0</td>\n",
       "      <td>1196.0</td>\n",
       "      <td>4221.0</td>\n",
       "      <td>6404.0</td>\n",
       "      <td>507.0</td>\n",
       "      <td>1788.0</td>\n",
       "    </tr>\n",
       "    <tr>\n",
       "      <th>4</th>\n",
       "      <td>2</td>\n",
       "      <td>3</td>\n",
       "      <td>22615.0</td>\n",
       "      <td>5410.0</td>\n",
       "      <td>7198.0</td>\n",
       "      <td>NaN</td>\n",
       "      <td>1777.0</td>\n",
       "      <td>NaN</td>\n",
       "    </tr>\n",
       "  </tbody>\n",
       "</table>\n",
       "</div>"
      ],
      "text/plain": [
       "   Channel  Region    Fresh    Milk  Grocery  Frozen  Detergents_Paper  \\\n",
       "0        2       3  12669.0  9656.0   7561.0   214.0            2674.0   \n",
       "1        2       3   7057.0  9810.0   9568.0  1762.0            3293.0   \n",
       "2        2       3   6353.0  8808.0   7684.0  2405.0            3516.0   \n",
       "3        1       3  13265.0  1196.0   4221.0  6404.0             507.0   \n",
       "4        2       3  22615.0  5410.0   7198.0     NaN            1777.0   \n",
       "\n",
       "   Delicassen  \n",
       "0      1338.0  \n",
       "1      1776.0  \n",
       "2      7844.0  \n",
       "3      1788.0  \n",
       "4         NaN  "
      ]
     },
     "execution_count": 2,
     "metadata": {},
     "output_type": "execute_result"
    }
   ],
   "source": [
    "import pandas as pd \n",
    "data = pd.read_csv(\"C:/Users/Birti Kaur/OneDrive/Desktop/final.csv\")\n",
    "data.head()"
   ]
  },
  {
   "cell_type": "code",
   "execution_count": 3,
   "metadata": {},
   "outputs": [
    {
     "name": "stdout",
     "output_type": "stream",
     "text": [
      "<class 'pandas.core.frame.DataFrame'>\n",
      "RangeIndex: 440 entries, 0 to 439\n",
      "Data columns (total 8 columns):\n",
      " #   Column            Non-Null Count  Dtype  \n",
      "---  ------            --------------  -----  \n",
      " 0   Channel           440 non-null    int64  \n",
      " 1   Region            440 non-null    int64  \n",
      " 2   Fresh             439 non-null    float64\n",
      " 3   Milk              438 non-null    float64\n",
      " 4   Grocery           438 non-null    float64\n",
      " 5   Frozen            438 non-null    float64\n",
      " 6   Detergents_Paper  439 non-null    float64\n",
      " 7   Delicassen        439 non-null    float64\n",
      "dtypes: float64(6), int64(2)\n",
      "memory usage: 27.6 KB\n"
     ]
    }
   ],
   "source": [
    "data.info()"
   ]
  },
  {
   "cell_type": "code",
   "execution_count": 4,
   "metadata": {},
   "outputs": [
    {
     "data": {
      "text/html": [
       "<div>\n",
       "<style scoped>\n",
       "    .dataframe tbody tr th:only-of-type {\n",
       "        vertical-align: middle;\n",
       "    }\n",
       "\n",
       "    .dataframe tbody tr th {\n",
       "        vertical-align: top;\n",
       "    }\n",
       "\n",
       "    .dataframe thead th {\n",
       "        text-align: right;\n",
       "    }\n",
       "</style>\n",
       "<table border=\"1\" class=\"dataframe\">\n",
       "  <thead>\n",
       "    <tr style=\"text-align: right;\">\n",
       "      <th></th>\n",
       "      <th>Channel</th>\n",
       "      <th>Region</th>\n",
       "      <th>Fresh</th>\n",
       "      <th>Milk</th>\n",
       "      <th>Grocery</th>\n",
       "      <th>Frozen</th>\n",
       "      <th>Detergents_Paper</th>\n",
       "      <th>Delicassen</th>\n",
       "    </tr>\n",
       "  </thead>\n",
       "  <tbody>\n",
       "    <tr>\n",
       "      <th>count</th>\n",
       "      <td>440.000000</td>\n",
       "      <td>440.000000</td>\n",
       "      <td>439.000000</td>\n",
       "      <td>438.000000</td>\n",
       "      <td>438.000000</td>\n",
       "      <td>438.000000</td>\n",
       "      <td>439.000000</td>\n",
       "      <td>439.000000</td>\n",
       "    </tr>\n",
       "    <tr>\n",
       "      <th>mean</th>\n",
       "      <td>1.322727</td>\n",
       "      <td>2.543182</td>\n",
       "      <td>12010.369021</td>\n",
       "      <td>5802.043379</td>\n",
       "      <td>7960.041096</td>\n",
       "      <td>3074.374429</td>\n",
       "      <td>2882.633257</td>\n",
       "      <td>1516.533030</td>\n",
       "    </tr>\n",
       "    <tr>\n",
       "      <th>std</th>\n",
       "      <td>0.468052</td>\n",
       "      <td>0.774272</td>\n",
       "      <td>12659.991699</td>\n",
       "      <td>7392.448252</td>\n",
       "      <td>9523.408318</td>\n",
       "      <td>4864.741417</td>\n",
       "      <td>4773.234058</td>\n",
       "      <td>2817.889215</td>\n",
       "    </tr>\n",
       "    <tr>\n",
       "      <th>min</th>\n",
       "      <td>1.000000</td>\n",
       "      <td>1.000000</td>\n",
       "      <td>3.000000</td>\n",
       "      <td>55.000000</td>\n",
       "      <td>3.000000</td>\n",
       "      <td>25.000000</td>\n",
       "      <td>3.000000</td>\n",
       "      <td>3.000000</td>\n",
       "    </tr>\n",
       "    <tr>\n",
       "      <th>25%</th>\n",
       "      <td>1.000000</td>\n",
       "      <td>2.000000</td>\n",
       "      <td>3119.500000</td>\n",
       "      <td>1541.250000</td>\n",
       "      <td>2149.000000</td>\n",
       "      <td>738.750000</td>\n",
       "      <td>256.500000</td>\n",
       "      <td>407.500000</td>\n",
       "    </tr>\n",
       "    <tr>\n",
       "      <th>50%</th>\n",
       "      <td>1.000000</td>\n",
       "      <td>3.000000</td>\n",
       "      <td>8533.000000</td>\n",
       "      <td>3627.000000</td>\n",
       "      <td>4755.500000</td>\n",
       "      <td>1526.000000</td>\n",
       "      <td>813.000000</td>\n",
       "      <td>964.000000</td>\n",
       "    </tr>\n",
       "    <tr>\n",
       "      <th>75%</th>\n",
       "      <td>2.000000</td>\n",
       "      <td>3.000000</td>\n",
       "      <td>16934.500000</td>\n",
       "      <td>7176.000000</td>\n",
       "      <td>10675.250000</td>\n",
       "      <td>3543.500000</td>\n",
       "      <td>3935.000000</td>\n",
       "      <td>1803.500000</td>\n",
       "    </tr>\n",
       "    <tr>\n",
       "      <th>max</th>\n",
       "      <td>2.000000</td>\n",
       "      <td>3.000000</td>\n",
       "      <td>112151.000000</td>\n",
       "      <td>73498.000000</td>\n",
       "      <td>92780.000000</td>\n",
       "      <td>60869.000000</td>\n",
       "      <td>40827.000000</td>\n",
       "      <td>47943.000000</td>\n",
       "    </tr>\n",
       "  </tbody>\n",
       "</table>\n",
       "</div>"
      ],
      "text/plain": [
       "          Channel      Region          Fresh          Milk       Grocery  \\\n",
       "count  440.000000  440.000000     439.000000    438.000000    438.000000   \n",
       "mean     1.322727    2.543182   12010.369021   5802.043379   7960.041096   \n",
       "std      0.468052    0.774272   12659.991699   7392.448252   9523.408318   \n",
       "min      1.000000    1.000000       3.000000     55.000000      3.000000   \n",
       "25%      1.000000    2.000000    3119.500000   1541.250000   2149.000000   \n",
       "50%      1.000000    3.000000    8533.000000   3627.000000   4755.500000   \n",
       "75%      2.000000    3.000000   16934.500000   7176.000000  10675.250000   \n",
       "max      2.000000    3.000000  112151.000000  73498.000000  92780.000000   \n",
       "\n",
       "             Frozen  Detergents_Paper    Delicassen  \n",
       "count    438.000000        439.000000    439.000000  \n",
       "mean    3074.374429       2882.633257   1516.533030  \n",
       "std     4864.741417       4773.234058   2817.889215  \n",
       "min       25.000000          3.000000      3.000000  \n",
       "25%      738.750000        256.500000    407.500000  \n",
       "50%     1526.000000        813.000000    964.000000  \n",
       "75%     3543.500000       3935.000000   1803.500000  \n",
       "max    60869.000000      40827.000000  47943.000000  "
      ]
     },
     "execution_count": 4,
     "metadata": {},
     "output_type": "execute_result"
    }
   ],
   "source": [
    "data.describe()"
   ]
  },
  {
   "cell_type": "code",
   "execution_count": 5,
   "metadata": {
    "scrolled": true
   },
   "outputs": [
    {
     "data": {
      "text/plain": [
       "1    298\n",
       "2    142\n",
       "Name: Channel, dtype: int64"
      ]
     },
     "execution_count": 5,
     "metadata": {},
     "output_type": "execute_result"
    }
   ],
   "source": [
    "data[\"Channel\"].value_counts()"
   ]
  },
  {
   "cell_type": "code",
   "execution_count": 6,
   "metadata": {},
   "outputs": [
    {
     "data": {
      "text/plain": [
       "3    316\n",
       "1     77\n",
       "2     47\n",
       "Name: Region, dtype: int64"
      ]
     },
     "execution_count": 6,
     "metadata": {},
     "output_type": "execute_result"
    }
   ],
   "source": [
    "data[\"Region\"].value_counts()"
   ]
  },
  {
   "cell_type": "code",
   "execution_count": 7,
   "metadata": {
    "scrolled": true
   },
   "outputs": [
    {
     "data": {
      "text/plain": [
       "<AxesSubplot:>"
      ]
     },
     "execution_count": 7,
     "metadata": {},
     "output_type": "execute_result"
    },
    {
     "data": {
      "image/png": "[encoded data removed]",
      "text/plain": [
       "<Figure size 432x288 with 1 Axes>"
      ]
     },
     "metadata": {
      "needs_background": "light"
     },
     "output_type": "display_data"
    }
   ],
   "source": [
    "data['Channel'].value_counts().plot(kind='bar')"
   ]
  },
  {
   "cell_type": "code",
   "execution_count": 8,
   "metadata": {},
   "outputs": [
    {
     "data": {
      "text/plain": [
       "<AxesSubplot:>"
      ]
     },
     "execution_count": 8,
     "metadata": {},
     "output_type": "execute_result"
    },
    {
     "data": {
      "image/png": "[encoded data removed]",
      "text/plain": [
       "<Figure size 432x288 with 1 Axes>"
      ]
     },
     "metadata": {
      "needs_background": "light"
     },
     "output_type": "display_data"
    }
   ],
   "source": [
    "data['Region'].value_counts().plot(kind='bar')"
   ]
  },
  {
   "cell_type": "code",
   "execution_count": 9,
   "metadata": {},
   "outputs": [
    {
     "data": {
      "text/plain": [
       "<AxesSubplot:>"
      ]
     },
     "execution_count": 9,
     "metadata": {},
     "output_type": "execute_result"
    },
    {
     "data": {
      "image/png": "[encoded data removed]",
      "text/plain": [
       "<Figure size 432x288 with 2 Axes>"
      ]
     },
     "metadata": {
      "needs_background": "light"
     },
     "output_type": "display_data"
    }
   ],
   "source": [
    "import seaborn as sns\n",
    "import matplotlib.pyplot as plt\n",
    "corrMatrix = data.corr()\n",
    "sns.heatmap(corrMatrix, annot=True)"
   ]
  },
  {
   "cell_type": "code",
   "execution_count": 10,
   "metadata": {},
   "outputs": [
    {
     "data": {
      "text/plain": [
       "Channel             0\n",
       "Region              0\n",
       "Fresh               1\n",
       "Milk                2\n",
       "Grocery             2\n",
       "Frozen              2\n",
       "Detergents_Paper    1\n",
       "Delicassen          1\n",
       "dtype: int64"
      ]
     },
     "execution_count": 10,
     "metadata": {},
     "output_type": "execute_result"
    }
   ],
   "source": [
    "data.isnull().sum()"
   ]
  },
  {
   "cell_type": "code",
   "execution_count": 11,
   "metadata": {},
   "outputs": [],
   "source": [
    "## Data Preparation"
   ]
  },
  {
   "cell_type": "code",
   "execution_count": 12,
   "metadata": {},
   "outputs": [],
   "source": [
    "from sklearn.impute import SimpleImputer\n",
    "imputer = SimpleImputer(strategy=\"median\")\n",
    "data_num = data"
   ]
  },
  {
   "cell_type": "code",
   "execution_count": 13,
   "metadata": {},
   "outputs": [],
   "source": [
    "from sklearn.pipeline import Pipeline\n",
    "from sklearn.preprocessing import StandardScaler\n",
    "from sklearn.impute import SimpleImputer\n",
    "\n",
    "num_pipeline = Pipeline([\n",
    "    ('imputer', SimpleImputer(strategy=\"median\")),   \n",
    "    ('std_scaler', StandardScaler()),\n",
    "])"
   ]
  },
  {
   "cell_type": "code",
   "execution_count": 14,
   "metadata": {},
   "outputs": [],
   "source": [
    "from sklearn.compose import ColumnTransformer\n",
    "num_attribs=list(data_num)\n",
    "full_pipeline=ColumnTransformer([\n",
    "   (\"num\", num_pipeline, num_attribs) \n",
    "])\n",
    "data_prepared = full_pipeline.fit_transform(data) "
   ]
  },
  {
   "cell_type": "code",
   "execution_count": 15,
   "metadata": {},
   "outputs": [],
   "source": [
    "## K -means"
   ]
  },
  {
   "cell_type": "code",
   "execution_count": 16,
   "metadata": {},
   "outputs": [],
   "source": [
    "from sklearn.cluster import KMeans\n",
    "from sklearn.metrics import silhouette_score\n",
    "sil_score=[]\n",
    "inertias = []\n",
    "mapping1 = {}\n",
    "mapping2 = {}\n",
    "K = range(1, 20)\n",
    " \n",
    "for k in K:\n",
    "    \n",
    "    kmeanModel = KMeans(n_clusters=k,random_state=0,init=\"random\")\n",
    "    kmeanModel.fit(data_prepared)\n",
    "    inertias.append(kmeanModel.inertia_)\n",
    "    if k != 1:\n",
    "        sil_score.append(silhouette_score(data_prepared, kmeanModel.labels_, 'euclidean'))\n",
    "        mapping1[k] = silhouette_score(data_prepared, kmeanModel.labels_, 'euclidean')\n",
    "    mapping2[k] = kmeanModel.inertia_"
   ]
  },
  {
   "cell_type": "code",
   "execution_count": 17,
   "metadata": {
    "scrolled": true
   },
   "outputs": [
    {
     "name": "stdout",
     "output_type": "stream",
     "text": [
      "2 : 0.372858486135133\n",
      "3 : 0.35646920560161743\n",
      "4 : 0.348224942042936\n",
      "5 : 0.3569641763242844\n",
      "6 : 0.3550797075564612\n",
      "7 : 0.35999782869535013\n",
      "8 : 0.3210984389634259\n",
      "9 : 0.31678592097894837\n",
      "10 : 0.30925611735581643\n",
      "11 : 0.29238636580086913\n",
      "12 : 0.27345912712050874\n",
      "13 : 0.2684760766103523\n",
      "14 : 0.3254757202879421\n",
      "15 : 0.2510720421026148\n",
      "16 : 0.25720233856937497\n",
      "17 : 0.23462364940066555\n",
      "18 : 0.2404504430338095\n",
      "19 : 0.24614247436492592\n"
     ]
    }
   ],
   "source": [
    "for key, val in mapping1.items():\n",
    "    print(f'{key} : {val}')"
   ]
  },
  {
   "cell_type": "code",
   "execution_count": 18,
   "metadata": {
    "scrolled": true
   },
   "outputs": [
    {
     "data": {
      "image/png": "[encoded data removed]",
      "text/plain": [
       "<Figure size 432x288 with 1 Axes>"
      ]
     },
     "metadata": {
      "needs_background": "light"
     },
     "output_type": "display_data"
    }
   ],
   "source": [
    "plt.plot(range(2,20), sil_score, 'bx-')\n",
    "plt.xlabel('Values of K')\n",
    "plt.ylabel('Silhouette Score')\n",
    "plt.title('The Elbow Method using Distortion')\n",
    "plt.show()"
   ]
  },
  {
   "cell_type": "code",
   "execution_count": 19,
   "metadata": {},
   "outputs": [
    {
     "name": "stdout",
     "output_type": "stream",
     "text": [
      "1 : 3519.999999999996\n",
      "2 : 2601.275971093921\n",
      "3 : 2149.5926160148647\n",
      "4 : 1852.180778072502\n",
      "5 : 1567.7152995317786\n",
      "6 : 1348.2458047790506\n",
      "7 : 1236.6905970448477\n",
      "8 : 1117.615050924536\n",
      "9 : 1074.520521642688\n",
      "10 : 1023.2143071690831\n",
      "11 : 955.8378280962093\n",
      "12 : 912.9730529619948\n",
      "13 : 898.27861002177\n",
      "14 : 740.6380511487594\n",
      "15 : 713.0119565027348\n",
      "16 : 688.3322087481815\n",
      "17 : 643.9868675709903\n",
      "18 : 631.2360561487365\n",
      "19 : 615.9520801299158\n"
     ]
    }
   ],
   "source": [
    "for key, val in mapping2.items():\n",
    "    print(f'{key} : {val}')"
   ]
  },
  {
   "cell_type": "code",
   "execution_count": 20,
   "metadata": {
    "scrolled": false
   },
   "outputs": [
    {
     "data": {
      "image/png": "[encoded data removed]",
      "text/plain": [
       "<Figure size 432x288 with 1 Axes>"
      ]
     },
     "metadata": {
      "needs_background": "light"
     },
     "output_type": "display_data"
    }
   ],
   "source": [
    "plt.plot(K,inertias , 'bx-')\n",
    "plt.xlabel('Values of K')\n",
    "plt.ylabel('Inertia')\n",
    "plt.title('The Elbow Method using Distortion')\n",
    "plt.show()"
   ]
  },
  {
   "cell_type": "code",
   "execution_count": 21,
   "metadata": {},
   "outputs": [
    {
     "data": {
      "text/plain": [
       "KMeans(init='random', n_clusters=11, random_state=0)"
      ]
     },
     "execution_count": 21,
     "metadata": {},
     "output_type": "execute_result"
    }
   ],
   "source": [
    "kmeanModel = KMeans(n_clusters=11,random_state=0,init=\"random\")\n",
    "kmeanModel.fit(data_prepared)"
   ]
  },
  {
   "cell_type": "code",
   "execution_count": 22,
   "metadata": {},
   "outputs": [
    {
     "name": "stdout",
     "output_type": "stream",
     "text": [
      "Counter({3: 138, 6: 73, 2: 58, 0: 48, 7: 42, 10: 23, 9: 23, 5: 17, 4: 11, 1: 5, 8: 2})\n"
     ]
    }
   ],
   "source": [
    "from collections import Counter\n",
    "clusters= Counter(kmeanModel.labels_)\n",
    "print(clusters)"
   ]
  },
  {
   "cell_type": "code",
   "execution_count": 23,
   "metadata": {},
   "outputs": [
    {
     "name": "stdout",
     "output_type": "stream",
     "text": [
      "Cluster  1  :  48\n",
      "Cluster  2  :  5\n",
      "Cluster  3  :  58\n",
      "Cluster  4  :  138\n",
      "Cluster  5  :  11\n",
      "Cluster  6  :  17\n",
      "Cluster  7  :  73\n",
      "Cluster  8  :  42\n",
      "Cluster  9  :  2\n",
      "Cluster  10  :  23\n",
      "Cluster  11  :  23\n"
     ]
    }
   ],
   "source": [
    "for (key, value) in sorted(clusters.items()):\n",
    "     print(\"Cluster \",key+1 , \" : \" , value)"
   ]
  },
  {
   "cell_type": "code",
   "execution_count": 24,
   "metadata": {},
   "outputs": [],
   "source": [
    "## K- Means ++  "
   ]
  },
  {
   "cell_type": "code",
   "execution_count": 25,
   "metadata": {},
   "outputs": [],
   "source": [
    "from sklearn.cluster import KMeans\n",
    "from sklearn.metrics import silhouette_score\n",
    "sil_score=[]\n",
    "inertias  = []\n",
    "mapping1 = {}\n",
    "mapping2 = {}\n",
    "K = range(1, 20)\n",
    " \n",
    "for k in K:\n",
    "    \n",
    "    kmeanModel = KMeans(n_clusters=k,random_state=0,init=\"k-means++\")\n",
    "    kmeanModel.fit(data_prepared)\n",
    "    inertias.append(kmeanModel.inertia_)\n",
    "    if k != 1:\n",
    "        sil_score.append(silhouette_score(data_prepared, kmeanModel.labels_, 'euclidean'))\n",
    "        mapping1[k] = silhouette_score(data_prepared, kmeanModel.labels_, 'euclidean')\n",
    "    mapping2[k] = kmeanModel.inertia_"
   ]
  },
  {
   "cell_type": "code",
   "execution_count": 26,
   "metadata": {
    "scrolled": true
   },
   "outputs": [
    {
     "name": "stdout",
     "output_type": "stream",
     "text": [
      "2 : 0.37294783102360424\n",
      "3 : 0.35646920560161743\n",
      "4 : 0.3478487129942104\n",
      "5 : 0.3509509740378837\n",
      "6 : 0.3514918510550459\n",
      "7 : 0.35435805837501505\n",
      "8 : 0.3630815271039351\n",
      "9 : 0.3581980662924202\n",
      "10 : 0.3631784078869665\n",
      "11 : 0.3678309783248305\n",
      "12 : 0.36521818770012315\n",
      "13 : 0.327265792624772\n",
      "14 : 0.33567783391530376\n",
      "15 : 0.32355739451954846\n",
      "16 : 0.3261916731121457\n",
      "17 : 0.27559383221560535\n",
      "18 : 0.27657916292912343\n",
      "19 : 0.2788810167162903\n"
     ]
    }
   ],
   "source": [
    "for key, val in mapping1.items():\n",
    "    print(f'{key} : {val}')"
   ]
  },
  {
   "cell_type": "code",
   "execution_count": 27,
   "metadata": {
    "scrolled": true
   },
   "outputs": [
    {
     "data": {
      "image/png": "[encoded data removed]",
      "text/plain": [
       "<Figure size 432x288 with 1 Axes>"
      ]
     },
     "metadata": {
      "needs_background": "light"
     },
     "output_type": "display_data"
    }
   ],
   "source": [
    "plt.plot(range(2,20), sil_score, 'bx-')\n",
    "plt.xlabel('Values of K')\n",
    "plt.ylabel('Silhouette Score')\n",
    "plt.title('The Elbow Method using Distortion')\n",
    "plt.show()"
   ]
  },
  {
   "cell_type": "code",
   "execution_count": 28,
   "metadata": {},
   "outputs": [
    {
     "name": "stdout",
     "output_type": "stream",
     "text": [
      "1 : 3519.999999999996\n",
      "2 : 2601.3384930024195\n",
      "3 : 2149.5926160148647\n",
      "4 : 1852.107500467637\n",
      "5 : 1561.2409308300712\n",
      "6 : 1313.7214818717446\n",
      "7 : 1188.8817738760838\n",
      "8 : 1058.2015533722927\n",
      "9 : 971.6382572200362\n",
      "10 : 922.7730614920602\n",
      "11 : 857.4987493003091\n",
      "12 : 803.0995597191603\n",
      "13 : 769.3977182838627\n",
      "14 : 714.4568392871478\n",
      "15 : 676.4784713624936\n",
      "16 : 651.7903422056892\n",
      "17 : 625.5214945215599\n",
      "18 : 592.631030771812\n",
      "19 : 572.6296540849133\n"
     ]
    }
   ],
   "source": [
    "for key, val in mapping2.items():\n",
    "    print(f'{key} : {val}')"
   ]
  },
  {
   "cell_type": "code",
   "execution_count": 29,
   "metadata": {
    "scrolled": false
   },
   "outputs": [
    {
     "data": {
      "image/png": "[encoded data removed]",
      "text/plain": [
       "<Figure size 432x288 with 1 Axes>"
      ]
     },
     "metadata": {
      "needs_background": "light"
     },
     "output_type": "display_data"
    }
   ],
   "source": [
    "plt.plot(K,inertias , 'bx-')\n",
    "plt.xlabel('Values of K')\n",
    "plt.ylabel('Inertia')\n",
    "plt.title('The Elbow Method using Distortion')\n",
    "plt.show()"
   ]
  },
  {
   "cell_type": "code",
   "execution_count": 30,
   "metadata": {},
   "outputs": [
    {
     "data": {
      "text/plain": [
       "KMeans(n_clusters=11, random_state=0)"
      ]
     },
     "execution_count": 30,
     "metadata": {},
     "output_type": "execute_result"
    }
   ],
   "source": [
    "kmeanModel = KMeans(n_clusters=11,random_state=0,init=\"k-means++\")\n",
    "kmeanModel.fit(data_prepared)"
   ]
  },
  {
   "cell_type": "code",
   "execution_count": 31,
   "metadata": {},
   "outputs": [
    {
     "name": "stdout",
     "output_type": "stream",
     "text": [
      "Counter({9: 155, 0: 92, 6: 80, 5: 35, 1: 34, 4: 32, 2: 6, 10: 3, 8: 1, 3: 1, 7: 1})\n"
     ]
    }
   ],
   "source": [
    "from collections import Counter\n",
    "clusters= Counter(kmeanModel.labels_)\n",
    "print(clusters)"
   ]
  },
  {
   "cell_type": "code",
   "execution_count": 32,
   "metadata": {
    "scrolled": true
   },
   "outputs": [
    {
     "name": "stdout",
     "output_type": "stream",
     "text": [
      "Cluster  1  :  92\n",
      "Cluster  2  :  34\n",
      "Cluster  3  :  6\n",
      "Cluster  4  :  1\n",
      "Cluster  5  :  32\n",
      "Cluster  6  :  35\n",
      "Cluster  7  :  80\n",
      "Cluster  8  :  1\n",
      "Cluster  9  :  1\n",
      "Cluster  10  :  155\n",
      "Cluster  11  :  3\n"
     ]
    }
   ],
   "source": [
    "for (key, value) in sorted(clusters.items()):\n",
    "     print(\"Cluster \",key+1 , \" : \" , value)"
   ]
  },
  {
   "cell_type": "markdown",
   "metadata": {},
   "source": [
    "Reference: https://www.geeksforgeeks.org/elbow-method-for-optimal-value-of-k-in-kmeans/"
   ]
  }
 ],
 "metadata": {
  "kernelspec": {
   "display_name": "Python 3",
   "language": "python",
   "name": "python3"
  },
  "language_info": {
   "codemirror_mode": {
    "name": "ipython",
    "version": 3
   },
   "file_extension": ".py",
   "mimetype": "text/x-python",
   "name": "python",
   "nbconvert_exporter": "python",
   "pygments_lexer": "ipython3",
   "version": "3.8.5"
  }
 },
 "nbformat": 4,
 "nbformat_minor": 4
}
